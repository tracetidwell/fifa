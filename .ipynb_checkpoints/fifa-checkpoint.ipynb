{
 "cells": [
  {
   "cell_type": "code",
   "execution_count": 1,
   "metadata": {},
   "outputs": [],
   "source": [
    "from requests import get\n",
    "from requests.exceptions import RequestException\n",
    "from contextlib import closing\n",
    "from bs4 import BeautifulSoup"
   ]
  },
  {
   "cell_type": "code",
   "execution_count": 2,
   "metadata": {},
   "outputs": [],
   "source": [
    "def simple_get(url):\n",
    "    \"\"\"\n",
    "    Attempts to get the content at `url` by making an HTTP GET request.\n",
    "    If the content-type of response is some kind of HTML/XML, return the\n",
    "    text content, otherwise return None.\n",
    "    \"\"\"\n",
    "    try:\n",
    "        with closing(get(url, stream=True)) as resp:\n",
    "            if is_good_response(resp):\n",
    "                return resp.content\n",
    "            else:\n",
    "                return None\n",
    "\n",
    "    except RequestException as e:\n",
    "        log_error('Error during requests to {0} : {1}'.format(url, str(e)))\n",
    "        return None"
   ]
  },
  {
   "cell_type": "code",
   "execution_count": 3,
   "metadata": {},
   "outputs": [],
   "source": [
    "def is_good_response(resp):\n",
    "    \"\"\"\n",
    "    Returns True if the response seems to be HTML, False otherwise.\n",
    "    \"\"\"\n",
    "    content_type = resp.headers['Content-Type'].lower()\n",
    "    return (resp.status_code == 200 \n",
    "            and content_type is not None \n",
    "            and content_type.find('html') > -1)"
   ]
  },
  {
   "cell_type": "code",
   "execution_count": 4,
   "metadata": {},
   "outputs": [],
   "source": [
    "def log_error(e):\n",
    "    \"\"\"\n",
    "    It is always a good idea to log errors. \n",
    "    This function just prints them, but you can\n",
    "    make it do anything.\n",
    "    \"\"\"\n",
    "    print(e)"
   ]
  },
  {
   "cell_type": "code",
   "execution_count": 38,
   "metadata": {},
   "outputs": [],
   "source": [
    "base_url = 'https://www.fifa.com'\n",
    "archive_ext = '/fifa-tournaments/archive/worldcup/index.html'"
   ]
  },
  {
   "cell_type": "code",
   "execution_count": 39,
   "metadata": {},
   "outputs": [],
   "source": [
    "raw_html = simple_get(base_url + archive_ext)"
   ]
  },
  {
   "cell_type": "code",
   "execution_count": 40,
   "metadata": {},
   "outputs": [],
   "source": [
    "soup = BeautifulSoup(raw_html, 'html.parser')"
   ]
  },
  {
   "cell_type": "code",
   "execution_count": 41,
   "metadata": {},
   "outputs": [],
   "source": [
    "world_cups = soup.find_all('li', class_='comp-item')#select('li.comp-item')"
   ]
  },
  {
   "cell_type": "code",
   "execution_count": 42,
   "metadata": {},
   "outputs": [],
   "source": [
    "wc_ext = world_cups[0].select('a')[0]['href']"
   ]
  },
  {
   "cell_type": "code",
   "execution_count": 44,
   "metadata": {},
   "outputs": [
    {
     "data": {
      "text/plain": [
       "'/worldcup/archive/brazil2014/index.html'"
      ]
     },
     "execution_count": 44,
     "metadata": {},
     "output_type": "execute_result"
    }
   ],
   "source": [
    "wc_ext"
   ]
  },
  {
   "cell_type": "code",
   "execution_count": null,
   "metadata": {},
   "outputs": [],
   "source": []
  },
  {
   "cell_type": "code",
   "execution_count": null,
   "metadata": {},
   "outputs": [],
   "source": []
  },
  {
   "cell_type": "code",
   "execution_count": null,
   "metadata": {},
   "outputs": [],
   "source": []
  },
  {
   "cell_type": "code",
   "execution_count": null,
   "metadata": {},
   "outputs": [],
   "source": []
  },
  {
   "cell_type": "code",
   "execution_count": null,
   "metadata": {},
   "outputs": [],
   "source": []
  },
  {
   "cell_type": "code",
   "execution_count": 45,
   "metadata": {},
   "outputs": [],
   "source": [
    "match_urls = ['https://www.fifa.com/worldcup/archive/southafrica2010/matches/index.html',\n",
    "              'https://www.fifa.com/worldcup/archive/brazil2014/matches/index.html']"
   ]
  },
  {
   "cell_type": "code",
   "execution_count": 46,
   "metadata": {},
   "outputs": [],
   "source": [
    "raw_html = simple_get(match_urls[0])"
   ]
  },
  {
   "cell_type": "code",
   "execution_count": 47,
   "metadata": {},
   "outputs": [],
   "source": [
    "soup = BeautifulSoup(raw_html, 'html.parser')"
   ]
  },
  {
   "cell_type": "code",
   "execution_count": 54,
   "metadata": {},
   "outputs": [],
   "source": [
    "matches = soup.find_all('div', class_='match-list-date')"
   ]
  },
  {
   "cell_type": "code",
   "execution_count": 56,
   "metadata": {},
   "outputs": [
    {
     "name": "stdout",
     "output_type": "stream",
     "text": [
      "/worldcup/matches/round=249722/match=300061454/index.html#nosticky\n",
      "/worldcup/matches/round=249722/match=300061459/index.html#nosticky\n",
      "/worldcup/matches/round=249722/match=300061465/index.html#nosticky\n",
      "/worldcup/matches/round=249722/match=300061478/index.html#nosticky\n",
      "/worldcup/matches/round=249722/match=300061483/index.html#nosticky\n",
      "/worldcup/matches/round=249722/match=300061495/index.html#nosticky\n",
      "/worldcup/matches/round=249722/match=300061458/index.html#nosticky\n",
      "/worldcup/matches/round=249722/match=300061470/index.html#nosticky\n",
      "/worldcup/matches/round=249722/match=300111117/index.html#nosticky\n",
      "/worldcup/matches/round=249722/match=300061481/index.html#nosticky\n",
      "/worldcup/matches/round=249722/match=300061487/index.html#nosticky\n",
      "/worldcup/matches/round=249722/match=300061450/index.html#nosticky\n",
      "/worldcup/matches/round=249722/match=300061462/index.html#nosticky\n",
      "/worldcup/matches/round=249722/match=300061480/index.html#nosticky\n",
      "/worldcup/matches/round=249722/match=300111111/index.html#nosticky\n",
      "/worldcup/matches/round=249717/match=300061504/index.html#nosticky\n",
      "/worldcup/matches/round=249717/match=300061501/index.html#nosticky\n",
      "/worldcup/matches/round=249717/match=300111113/index.html#nosticky\n",
      "/worldcup/matches/round=249717/match=300061497/index.html#nosticky\n",
      "/worldcup/matches/round=249718/match=300061507/index.html#nosticky\n",
      "/worldcup/matches/round=249718/match=300061505/index.html#nosticky\n",
      "/worldcup/matches/round=249719/match=300061512/index.html#nosticky\n",
      "/worldcup/matches/round=249719/match=300111114/index.html#nosticky\n",
      "/worldcup/matches/round=249720/match=300061510/index.html#nosticky\n",
      "/worldcup/matches/round=249721/match=300061509/index.html#nosticky\n"
     ]
    }
   ],
   "source": [
    "for match in matches:\n",
    "    print(match.select('a')[0]['href'])"
   ]
  },
  {
   "cell_type": "code",
   "execution_count": 58,
   "metadata": {},
   "outputs": [],
   "source": [
    "match_ext = matches[0].select('a')[0]['href']"
   ]
  },
  {
   "cell_type": "code",
   "execution_count": 60,
   "metadata": {},
   "outputs": [],
   "source": [
    "raw_html = simple_get(base_url + match_ext)"
   ]
  },
  {
   "cell_type": "code",
   "execution_count": 61,
   "metadata": {},
   "outputs": [],
   "source": [
    "soup = BeautifulSoup(raw_html, 'html.parser')"
   ]
  },
  {
   "cell_type": "code",
   "execution_count": null,
   "metadata": {},
   "outputs": [],
   "source": []
  }
 ],
 "metadata": {
  "kernelspec": {
   "display_name": "Python 3",
   "language": "python",
   "name": "python3"
  },
  "language_info": {
   "codemirror_mode": {
    "name": "ipython",
    "version": 3
   },
   "file_extension": ".py",
   "mimetype": "text/x-python",
   "name": "python",
   "nbconvert_exporter": "python",
   "pygments_lexer": "ipython3",
   "version": "3.6.5"
  }
 },
 "nbformat": 4,
 "nbformat_minor": 2
}
